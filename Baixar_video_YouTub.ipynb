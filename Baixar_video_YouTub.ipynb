{
 "cells": [
  {
   "cell_type": "code",
   "execution_count": null,
   "id": "566b7181",
   "metadata": {},
   "outputs": [],
   "source": [
    "import subprocess\n",
    "\n",
    "def download_video(youtube_url, save_path):\n",
    "    try:\n",
    "        # Comando para o yt-dlp\n",
    "        command = [\n",
    "            \"yt-dlp\",\n",
    "            \"-o\", f\"{save_path}/%(title)s.%(ext)s\",  # Define o formato de saída (pasta/nome do arquivo)\n",
    "            youtube_url\n",
    "        ]\n",
    "\n",
    "        # Executa o comando\n",
    "        subprocess.run(command, check=True)\n",
    "        print(\"Download concluído!\")\n",
    "    except Exception as e:\n",
    "        print(f\"Erro ao baixar o vídeo: {e}\")\n",
    "\n",
    "if __name__ == \"__main__\":\n",
    "    # URL do vídeo do YouTube\n",
    "    youtube_url = input(\"Digite a URL do vídeo do YouTube: \")\n",
    "\n",
    "    # Diretório para salvar o vídeo\n",
    "    save_path = input(\"Digite o diretório para salvar o vídeo (exemplo: C:/Videos): \")\n",
    "\n",
    "    download_video(youtube_url, save_path)"
   ]
  }
 ],
 "metadata": {
  "kernelspec": {
   "display_name": "Python 3",
   "language": "python",
   "name": "python3"
  },
  "language_info": {
   "codemirror_mode": {
    "name": "ipython",
    "version": 3
   },
   "file_extension": ".py",
   "mimetype": "text/x-python",
   "name": "python",
   "nbconvert_exporter": "python",
   "pygments_lexer": "ipython3",
   "version": "3.13.0"
  }
 },
 "nbformat": 4,
 "nbformat_minor": 5
}
